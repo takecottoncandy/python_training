{
 "cells": [
  {
   "cell_type": "markdown",
   "metadata": {},
   "source": [
    "##repetition operators\n",
    "###py\n",
    "-fruits * 3\n",
    "\n",
    "\n",
    "##LIst to String(conversion)\n"
   ]
  },
  {
   "cell_type": "code",
   "execution_count": 10,
   "metadata": {},
   "outputs": [
    {
     "ename": "IndexError",
     "evalue": "string index out of range",
     "output_type": "error",
     "traceback": [
      "\u001b[1;31m---------------------------------------------------------------------------\u001b[0m",
      "\u001b[1;31mIndexError\u001b[0m                                Traceback (most recent call last)",
      "Cell \u001b[1;32mIn[10], line 7\u001b[0m\n\u001b[0;32m      5\u001b[0m \u001b[38;5;28;01mfor\u001b[39;00m i \u001b[38;5;129;01min\u001b[39;00m \u001b[38;5;28mrange\u001b[39m(\u001b[38;5;28mlen\u001b[39m(smiles)):\n\u001b[0;32m      6\u001b[0m     \u001b[38;5;28;01mif\u001b[39;00m i \u001b[38;5;241m<\u001b[39m \u001b[38;5;28mlen\u001b[39m(smiles):\n\u001b[1;32m----> 7\u001b[0m         go_smiles \u001b[38;5;241m=\u001b[39m \u001b[43mgo_smiles\u001b[49m\u001b[43m[\u001b[49m\u001b[43mi\u001b[49m\u001b[43m]\u001b[49m\u001b[38;5;241m+\u001b[39m \u001b[38;5;124m\"\u001b[39m\u001b[38;5;124m,\u001b[39m\u001b[38;5;124m\"\u001b[39m\n\u001b[0;32m      8\u001b[0m     \u001b[38;5;28;01melse\u001b[39;00m:\n\u001b[0;32m      9\u001b[0m         go_smiles \u001b[38;5;241m=\u001b[39m go_smiles[i]\n",
      "\u001b[1;31mIndexError\u001b[0m: string index out of range"
     ]
    }
   ],
   "source": [
    "smiles = [\"😒\",\"😘\",\"😊\",\"😂\"]\n",
    "# change data type \n",
    "go_smiles = \"\"\n",
    "\n",
    "for i in range(len(smiles)):\n",
    "    if i < len(smiles):\n",
    "        go_smiles = go_smiles[i]+ \",\"\n",
    "    else:\n",
    "        go_smiles = go_smiles[i]\n",
    "\n",
    "print(go_smiles)"
   ]
  },
  {
   "cell_type": "markdown",
   "metadata": {},
   "source": [
    "## String to list (conversion)\n"
   ]
  },
  {
   "cell_type": "code",
   "execution_count": 14,
   "metadata": {},
   "outputs": [
    {
     "data": {
      "text/plain": [
       "['😒', '😘', '😊', '😂']"
      ]
     },
     "execution_count": 14,
     "metadata": {},
     "output_type": "execute_result"
    }
   ],
   "source": [
    "# smiles = [\"😒\",\"😘\",\"😊\",\"😂\"]\n",
    "\n",
    "# \",\".join(smiles)\n",
    "\n",
    "smily = smiles = \"😒,😘,😊,😂\"\n",
    "smily.split(\",\")"
   ]
  },
  {
   "cell_type": "code",
   "execution_count": 18,
   "metadata": {},
   "outputs": [
    {
     "name": "stdout",
     "output_type": "stream",
     "text": [
      "[100, 200, 300, 500]\n",
      "[100, 200, 400]\n",
      "[100, 200, 300, 500]\n"
     ]
    }
   ],
   "source": [
    "nums1 = [100,200]\n",
    "nums2 = [100,200]\n",
    "nums3 = nums1  #copy by reference  Refer to same location\n",
    "\n",
    "nums1.append(300)\n",
    "nums2.append(400)\n",
    "nums3.append(500)\n",
    "\n",
    "print(nums1)\n",
    "print(nums2)\n",
    "print(nums3)"
   ]
  },
  {
   "cell_type": "code",
   "execution_count": 20,
   "metadata": {},
   "outputs": [
    {
     "name": "stdout",
     "output_type": "stream",
     "text": [
      "400\n",
      "600\n",
      "700\n"
     ]
    }
   ],
   "source": [
    "nums1 = 100\n",
    "nums2 = 200\n",
    "nums3 = nums1\n",
    "\n",
    "nums1 = nums1+300\n",
    "nums2 = nums2+400\n",
    "nums3 = nums3+600\n",
    "\n",
    "print(nums1)\n",
    "print(nums2)\n",
    "print(nums3)"
   ]
  }
 ],
 "metadata": {
  "kernelspec": {
   "display_name": "Python 3",
   "language": "python",
   "name": "python3"
  },
  "language_info": {
   "codemirror_mode": {
    "name": "ipython",
    "version": 3
   },
   "file_extension": ".py",
   "mimetype": "text/x-python",
   "name": "python",
   "nbconvert_exporter": "python",
   "pygments_lexer": "ipython3",
   "version": "3.13.0"
  }
 },
 "nbformat": 4,
 "nbformat_minor": 2
}
