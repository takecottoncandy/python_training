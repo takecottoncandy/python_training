{
 "cells": [
  {
   "cell_type": "code",
   "execution_count": 2,
   "metadata": {},
   "outputs": [
    {
     "name": "stdout",
     "output_type": "stream",
     "text": [
      "Sorry, we ran out milk\n"
     ]
    }
   ],
   "source": [
    "# Shop\n",
    "stock1 = \"chocolate mint\"\n",
    "stock2 = \"vanilla\"\n",
    "stock3 = \"coffee\"\n",
    "stock4 = \"green tea\"\n",
    "\n",
    "# Expected Output\n",
    "# Yes, we have vanilla in stock\n",
    "\n",
    "# Sorry, we ran out strawberry\n",
    " \n",
    "#  case1:\n",
    "order = input(\"What kind of icecream do you want ?\").lower()\n",
    "\n",
    "if order in (stock1,stock2,stock3,stock4):\n",
    "    print(f\"Yse, we have {order} in stock\") \n",
    "else:\n",
    "    print(f\"Sorry, we ran out {order}\")"
   ]
  },
  {
   "cell_type": "code",
   "execution_count": 4,
   "metadata": {},
   "outputs": [
    {
     "name": "stdout",
     "output_type": "stream",
     "text": [
      "hello\n"
     ]
    }
   ],
   "source": [
    "print(\"hello\")"
   ]
  },
  {
   "cell_type": "markdown",
   "metadata": {},
   "source": [
    "hello "
   ]
  },
  {
   "cell_type": "code",
   "execution_count": null,
   "metadata": {},
   "outputs": [],
   "source": []
  },
  {
   "cell_type": "markdown",
   "metadata": {},
   "source": [
    "#slice operater\n",
    "'quote[start:end:skip]\n",
    "\n",
    "-Argument\n",
    "    - 'start' by defalt starts with 0\n",
    "    - 'end' value is **evaluded**\n",
    "    - 'skip' skips "
   ]
  },
  {
   "cell_type": "markdown",
   "metadata": {},
   "source": [
    "## Slice Operator\n",
    "\n",
    "`quote[start:end:skip]` \n",
    "\n",
    "- Extracts part of a string\n",
    "- Arguments\n",
    "  - `start` by default *starts* with 0\n",
    "  - `end` value is **excluded**\n",
    "  - `skip` skips letter\n",
    "\n"
   ]
  },
  {
   "cell_type": "markdown",
   "metadata": {},
   "source": [
    "## ShortCut\n",
    "\n",
    "- `shift + enter` comment\n",
    "- `cntl + /` comment\n",
    "- `ctrl + enter` change line\n",
    "- `windows`+ >  emoji"
   ]
  },
  {
   "cell_type": "markdown",
   "metadata": {},
   "source": []
  },
  {
   "cell_type": "markdown",
   "metadata": {},
   "source": [
    "# Loops \n",
    "request set of statement\n",
    "    \n",
    "## Types of ~~~"
   ]
  },
  {
   "cell_type": "markdown",
   "metadata": {},
   "source": []
  },
  {
   "cell_type": "markdown",
   "metadata": {},
   "source": [
    "### Task 1.1\n",
    "\n",
    "#### Expected Output\n",
    "\n",
    "```output\n",
    "🔥\n",
    "🔥🔥\n",
    "🔥🔥🔥\n",
    "🔥🔥🔥🔥\n",
    "🔥🔥🔥🔥🔥\n",
    "```\n"
   ]
  },
  {
   "cell_type": "code",
   "execution_count": 13,
   "metadata": {},
   "outputs": [
    {
     "name": "stdout",
     "output_type": "stream",
     "text": [
      "🔥\n",
      "🔥🔥\n",
      "🔥🔥🔥\n",
      "🔥🔥🔥🔥\n",
      "🔥🔥🔥🔥🔥\n"
     ]
    }
   ],
   "source": [
    "fire = \"🔥\"\n",
    "i = 1\n",
    "\n",
    "while i <= 5:\n",
    "    print(fire*i)\n",
    "    i=i+1"
   ]
  },
  {
   "cell_type": "markdown",
   "metadata": {},
   "source": [
    "### Task 1.2\n",
    "Get the `no. of rows` & `Pattern` (🍧) from user"
   ]
  },
  {
   "cell_type": "code",
   "execution_count": 34,
   "metadata": {},
   "outputs": [
    {
     "name": "stdout",
     "output_type": "stream",
     "text": [
      "1 🍧\n",
      "2 🍧🍧\n"
     ]
    }
   ],
   "source": [
    "icecream = int(input(\"How many icecream do you have? 🍧\"))\n",
    "i = 1\n",
    "mark = \"🍧\"\n",
    "\n",
    "while i <=icecream :\n",
    "    print(f\"{i} {mark*i}\")\n",
    "    i=i+1"
   ]
  },
  {
   "cell_type": "code",
   "execution_count": null,
   "metadata": {},
   "outputs": [
    {
     "name": "stdout",
     "output_type": "stream",
     "text": [
      "1 🍧\n",
      "2 🍧🍧\n",
      "3 🍧🍧🍧\n",
      "4 🍧🍧🍧🍧\n"
     ]
    }
   ],
   "source": [
    "icecream = int(input(\"How many icecream do you want? 🍧\"))\n",
    "mark = input(\"What is mark?\")\n",
    "i = 1\n",
    "# mark = \"🍧\"\n",
    "\n",
    "while i <=icecream :\n",
    "    print(f\"{i} {mark*i}\")\n",
    "    i=i+1"
   ]
  },
  {
   "cell_type": "markdown",
   "metadata": {},
   "source": [
    "## range()\n",
    "- start  default to `0`\n",
    "- end value is excluded\n",
    "### range(start,end)\n",
    "- end value is excluded"
   ]
  },
  {
   "cell_type": "markdown",
   "metadata": {},
   "source": [
    "Task 2.1 - Covert Task 1.1 with `for` loop\n",
    "\n",
    "Task 2.2 - Covert Task 1.2 with `for` loop"
   ]
  },
  {
   "cell_type": "code",
   "execution_count": 5,
   "metadata": {},
   "outputs": [
    {
     "name": "stdout",
     "output_type": "stream",
     "text": [
      "🔥\n",
      "🔥🔥\n",
      "🔥🔥🔥\n",
      "🔥🔥🔥🔥\n",
      "🔥🔥🔥🔥🔥\n"
     ]
    }
   ],
   "source": [
    "fire = \"🔥\"\n",
    "\n",
    "\n",
    "for  i in  range(5):\n",
    "    print(fire*(i+1))\n"
   ]
  },
  {
   "cell_type": "code",
   "execution_count": 7,
   "metadata": {},
   "outputs": [
    {
     "name": "stdout",
     "output_type": "stream",
     "text": [
      "1 😘\n",
      "2 😘😘\n",
      "3 😘😘😘\n",
      "4 😘😘😘😘\n",
      "5 😘😘😘😘😘\n"
     ]
    }
   ],
   "source": [
    "icecream = int(input(\"How many icecream do you want? 🍧\"))\n",
    "mark = input(\"What is mark?\")\n",
    "\n",
    "for i in range(icecream):\n",
    "    print(f\"{i+1} {mark*(i+1)}\")\n",
    "    "
   ]
  },
  {
   "cell_type": "code",
   "execution_count": 16,
   "metadata": {},
   "outputs": [
    {
     "name": "stdout",
     "output_type": "stream",
     "text": [
      "     😒\n",
      "    😒😒\n",
      "   😒😒😒\n",
      "  😒😒😒😒\n",
      " 😒😒😒😒😒\n"
     ]
    }
   ],
   "source": [
    "icecream = int(input(\"How many icecream do you want? 🍧\"))\n",
    "mark = input(\"What is mark?\")\n",
    "\n",
    "for i in range(icecream):\n",
    "    space = icecream - i\n",
    "    print(f\"{' '*space}{mark*(i+1)}\")\n",
    "    "
   ]
  },
  {
   "cell_type": "markdown",
   "metadata": {},
   "source": [
    "## Task\n",
    "\n",
    "Expected Output\n",
    "4\n",
    "16\n",
    "36\n",
    "64\n",
    "100\n",
    "144"
   ]
  },
  {
   "cell_type": "code",
   "execution_count": 22,
   "metadata": {},
   "outputs": [
    {
     "name": "stdout",
     "output_type": "stream",
     "text": [
      "4\n",
      "16\n",
      "36\n",
      "64\n",
      "100\n",
      "144\n"
     ]
    }
   ],
   "source": [
    "for i in range(2,13,2):\n",
    "    print(i**2)"
   ]
  },
  {
   "cell_type": "code",
   "execution_count": 26,
   "metadata": {},
   "outputs": [
    {
     "name": "stdout",
     "output_type": "stream",
     "text": [
      "1\n",
      "9\n",
      "25\n",
      "49\n",
      "81\n",
      "121\n"
     ]
    }
   ],
   "source": [
    "for i in range(1,13,2):\n",
    "    print(i**2)"
   ]
  }
 ],
 "metadata": {
  "kernelspec": {
   "display_name": "Python 3",
   "language": "python",
   "name": "python3"
  },
  "language_info": {
   "codemirror_mode": {
    "name": "ipython",
    "version": 3
   },
   "file_extension": ".py",
   "mimetype": "text/x-python",
   "name": "python",
   "nbconvert_exporter": "python",
   "pygments_lexer": "ipython3",
   "version": "3.13.0"
  }
 },
 "nbformat": 4,
 "nbformat_minor": 2
}
