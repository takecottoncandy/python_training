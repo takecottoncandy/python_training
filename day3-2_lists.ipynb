{
 "cells": [
  {
   "cell_type": "code",
   "execution_count": 2,
   "metadata": {},
   "outputs": [],
   "source": [
    "mark1=60\n",
    "mark2=80\n",
    "mark3=100"
   ]
  },
  {
   "cell_type": "markdown",
   "metadata": {},
   "source": [
    "mark1=60\n",
    "mark2=80\n",
    "mark3=100"
   ]
  },
  {
   "cell_type": "markdown",
   "metadata": {},
   "source": []
  },
  {
   "cell_type": "code",
   "execution_count": 17,
   "metadata": {},
   "outputs": [
    {
     "name": "stdout",
     "output_type": "stream",
     "text": [
      "(60, 70, 80, 90)\n"
     ]
    },
    {
     "data": {
      "text/plain": [
       "(90, 80, 70, 60)"
      ]
     },
     "execution_count": 17,
     "metadata": {},
     "output_type": "execute_result"
    }
   ],
   "source": [
    "marks = (60,70,80,90)\n",
    "print(marks)\n",
    "# marks[1]\n",
    "marks[::-1]"
   ]
  },
  {
   "cell_type": "markdown",
   "metadata": {},
   "source": [
    "update"
   ]
  },
  {
   "cell_type": "code",
   "execution_count": 29,
   "metadata": {},
   "outputs": [
    {
     "ename": "TypeError",
     "evalue": "'tuple' object does not support item assignment",
     "output_type": "error",
     "traceback": [
      "\u001b[1;31m---------------------------------------------------------------------------\u001b[0m",
      "\u001b[1;31mTypeError\u001b[0m                                 Traceback (most recent call last)",
      "Cell \u001b[1;32mIn[29], line 2\u001b[0m\n\u001b[0;32m      1\u001b[0m marks \u001b[38;5;241m=\u001b[39m (\u001b[38;5;241m60\u001b[39m,\u001b[38;5;241m70\u001b[39m,\u001b[38;5;241m80\u001b[39m,\u001b[38;5;241m90\u001b[39m)\n\u001b[1;32m----> 2\u001b[0m \u001b[43mmarks\u001b[49m\u001b[43m[\u001b[49m\u001b[38;5;241;43m1\u001b[39;49m\u001b[43m]\u001b[49m\u001b[38;5;241m=\u001b[39m\u001b[38;5;241m100\u001b[39m\n\u001b[0;32m      5\u001b[0m marks[\u001b[38;5;241m1\u001b[39m:]\n",
      "\u001b[1;31mTypeError\u001b[0m: 'tuple' object does not support item assignment"
     ]
    }
   ],
   "source": [
    "marks = (60,70,80,90)\n",
    "marks[1]=100\n",
    "\n",
    "\n",
    "marks[1:]"
   ]
  },
  {
   "cell_type": "markdown",
   "metadata": {},
   "source": [
    "marks[1]=95 index update value\n",
    "\n",
    "marks.append(80) always adds ata lasts\n",
    "\n",
    "marks.insert(index,70)\n",
    "marks.insert(0,70) insert in anywhere\n",
    "\n",
    "##delete \n",
    "-pop()\n",
    "-remove()\n",
    "\n",
    "marks.pop(2)  based on index\n",
    "\n",
    "\n"
   ]
  },
  {
   "cell_type": "markdown",
   "metadata": {},
   "source": [
    "# CRUD\n",
    "- Create ✅  - `marks = [80, 90, 100, 60, 85]`\n",
    "- Read   ✅  - `index`, `negative index` & `slice (:)`\n",
    "- Update ✅  - `index`, `append` &  `insert` \n",
    "- Delete ✅  - `remove` & `pop`\n"
   ]
  },
  {
   "cell_type": "code",
   "execution_count": 47,
   "metadata": {},
   "outputs": [
    {
     "name": "stdout",
     "output_type": "stream",
     "text": [
      "1 Hello kitty\n",
      "2 Goku\n",
      "3 Pikachu\n",
      "4 Luffy\n",
      "5 Yuji Itadori\n",
      "6 Levi\n"
     ]
    }
   ],
   "source": [
    "\n",
    "characters = ['Hello kitty', 'Goku', 'Pikachu', 'Luffy', 'Yuji Itadori', \"Levi\"]\n",
    "\n",
    "for i in range(len(characters)):\n",
    "    print(i+1,characters[i])\n",
    "\n",
    "# Clue: len()"
   ]
  },
  {
   "cell_type": "markdown",
   "metadata": {},
   "source": [
    "# Task 1.1: Double the power\n",
    "powers = [2000, 3000, 4000, 1500, 4500]\n",
    "\n",
    "\n",
    "# Output\n",
    "# powers -> [4000, 6000, 8000, 3000, 9000]\n",
    "# Task 1.2: Double the power\n",
    "powers = [2000, 3000, 4000, 1500, 4500]\n",
    "\n",
    "\n",
    "# Output\n",
    "# doubled_powers -> [4000, 6000, 8000, 3000, 9000]\n",
    "# powers -> [2000, 3000, 4000, 1500, 4500]"
   ]
  },
  {
   "cell_type": "code",
   "execution_count": 53,
   "metadata": {},
   "outputs": [
    {
     "name": "stdout",
     "output_type": "stream",
     "text": [
      "[2000, 3000, 4000, 1500, 4500]\n",
      "[4000, 6000, 8000, 3000, 9000]\n"
     ]
    }
   ],
   "source": [
    "powers = [2000, 3000, 4000, 1500, 4500]\n",
    "print(powers)\n",
    "for i in range(len(powers)):\n",
    "    powers[i]=powers[i]*2\n",
    "\n",
    "print(powers)\n"
   ]
  },
  {
   "cell_type": "code",
   "execution_count": 62,
   "metadata": {},
   "outputs": [
    {
     "name": "stdout",
     "output_type": "stream",
     "text": [
      "[2000, 3000, 4000, 1500, 4500]\n",
      "[4000, 6000, 8000, 3000, 9000]\n"
     ]
    }
   ],
   "source": [
    "powers = [2000, 3000, 4000, 1500, 4500]\n",
    "dublle_powers=[]\n",
    "print(powers)\n",
    "for i in range(len(powers)):\n",
    "    dublle_powers.append(powers[i]*2)\n",
    "\n",
    "print(dublle_powers)\n"
   ]
  },
  {
   "cell_type": "code",
   "execution_count": null,
   "metadata": {},
   "outputs": [],
   "source": []
  }
 ],
 "metadata": {
  "kernelspec": {
   "display_name": "Python 3",
   "language": "python",
   "name": "python3"
  },
  "language_info": {
   "codemirror_mode": {
    "name": "ipython",
    "version": 3
   },
   "file_extension": ".py",
   "mimetype": "text/x-python",
   "name": "python",
   "nbconvert_exporter": "python",
   "pygments_lexer": "ipython3",
   "version": "3.13.0"
  }
 },
 "nbformat": 4,
 "nbformat_minor": 2
}
