{
 "cells": [
  {
   "cell_type": "code",
   "execution_count": null,
   "metadata": {},
   "outputs": [],
   "source": [
    "## dictionary\n",
    "store mixed  multiple values"
   ]
  },
  {
   "cell_type": "code",
   "execution_count": 13,
   "metadata": {},
   "outputs": [],
   "source": [
    "luffy = {\n",
    "   \"name\" : \"Monkey D, Luffy\",\n",
    "   \"age\" : 19,\n",
    "   \"crew_name\" : \"Straw Hat pirates\",\n",
    "   \"crew\" : {\"Zoro\",\"Nami\",\"Cyopper\"},\n",
    "   \"position\" : \"Captain\"\n",
    "   }\n"
   ]
  },
  {
   "cell_type": "code",
   "execution_count": 25,
   "metadata": {},
   "outputs": [
    {
     "data": {
      "text/plain": [
       "{'name': 'Monkey D, Luffy',\n",
       " 'age': 27,\n",
       " 'crew_name': 'Straw Hat pirates',\n",
       " 'crew': {'Cyopper', 'Nami', 'Zoro'},\n",
       " 'position': 'Captain'}"
      ]
     },
     "execution_count": 25,
     "metadata": {},
     "output_type": "execute_result"
    }
   ],
   "source": [
    "luffy[\"age\"] = luffy[\"age\"] + 1\n",
    "\n",
    "luffy"
   ]
  },
  {
   "cell_type": "markdown",
   "metadata": {},
   "source": [
    "## Task 1.1\n",
    "Please provide the list of book titles\n",
    "\n",
    "```python\n",
    "books = [\n",
    "    {\"title\": \"Infinite Jest\", \"rating\": 4.5, \"genre\": \"Fiction\"},\n",
    "    {\"title\": \"The Catcher in the Rye\", \"rating\": 3.9, \"genre\": \"Fiction\"},\n",
    "    {\"title\": \"Sapiens\", \"rating\": 4.9, \"genre\": \"History\"},\n",
    "    {\"title\": \"A Brief History of Time\", \"rating\": 4.8, \"genre\": \"Science\"},\n",
    "    {\"title\": \"Clean Code\", \"rating\": 4.7, \"genre\": \"Technology\"},\n",
    "]\n",
    "\n",
    "```\n",
    "\n",
    "### Expected Output\n",
    "```\n",
    "[\"Infinite Jest\",  \"The Catcher in the Rye\", \"Sapiens\",  \"A Brief History of Time\",  \"Clean Code\"]\n",
    "\n",
    "## Task 1.2\n",
    "Please provide the only Fiction books\n",
    "\n",
    "\n",
    "### Expected Output\n",
    "```\n",
    "[\"Infinite Jest\",  \"The Catcher in the Rye\"]\n",
    "```\n",
    "## Task 1.3\n",
    "Please provide Highest rated books (>= 4.7)\n",
    "\n",
    "\n",
    "### Expected Output\n",
    "```\n",
    "Highest rated books are: Sapiens, A Brief History of Time and Clean Code \n",
    "```"
   ]
  },
  {
   "cell_type": "code",
   "execution_count": null,
   "metadata": {},
   "outputs": [],
   "source": [
    "\n",
    "books = [\n",
    "    {\"title\": \"Infinite Jest\", \"rating\": 4.5, \"genre\": \"Fiction\"},\n",
    "    {\"title\": \"The Catcher in the Rye\", \"rating\": 3.9, \"genre\": \"Fiction\"},\n",
    "    {\"title\": \"Sapiens\", \"rating\": 4.9, \"genre\": \"History\"},\n",
    "    {\"title\": \"A Brief History of Time\", \"rating\": 4.8, \"genre\": \"Science\"},\n",
    "    {\"title\": \"Clean Code\", \"rating\": 4.7, \"genre\": \"Technology\"},\n",
    "]"
   ]
  },
  {
   "cell_type": "code",
   "execution_count": 4,
   "metadata": {},
   "outputs": [
    {
     "name": "stdout",
     "output_type": "stream",
     "text": [
      "['Infinite Jest', 'The Catcher in the Rye', 'Sapiens', 'A Brief History of Time', 'Clean Code']\n"
     ]
    }
   ],
   "source": [
    "# task1.1\n",
    "names = []\n",
    "for book in books:\n",
    "    names.append(book[\"title\"])\n",
    "print(names)\n",
    "    "
   ]
  },
  {
   "cell_type": "code",
   "execution_count": 13,
   "metadata": {},
   "outputs": [
    {
     "name": "stdout",
     "output_type": "stream",
     "text": [
      "['Infinite Jest', 'The Catcher in the Rye']\n"
     ]
    }
   ],
   "source": [
    "# task1.2\n",
    "# Expected Output\n",
    "# [\"Infinite Jest\",  \"The Catcher in the Rye\"]\n",
    "fictions = []\n",
    "for book in books:\n",
    "    if book[\"genre\"] == \"Fiction\":\n",
    "        fictions.append(book[\"title\"])\n",
    "\n",
    "print(fictions)"
   ]
  },
  {
   "cell_type": "code",
   "execution_count": null,
   "metadata": {},
   "outputs": [],
   "source": [
    "print(f\"\")"
   ]
  },
  {
   "cell_type": "code",
   "execution_count": 61,
   "metadata": {},
   "outputs": [
    {
     "name": "stdout",
     "output_type": "stream",
     "text": [
      "Sapiens , A Brief History of Time\n",
      "Highest rated books are: Sapiens , A Brief History of Time and Clean Code\n"
     ]
    }
   ],
   "source": [
    "## Task 1.3\n",
    "# Please provide Highest rated books (>= 4.7)\n",
    "\n",
    "## Expected Output\n",
    "# Highest rated books are: Sapiens, A Brief History of Time and Clean Code \n",
    "\n",
    "ratings = []\n",
    "for book in books:\n",
    "    if book[\"rating\"] >= 4.7:\n",
    "        ratings.append(book[\"title\"])\n",
    "a = \" , \".join(ratings[0:-1])\n",
    "print(f\"Highest rated books are: {a} and {ratings[-1]}\")\n",
    "\n",
    "\n",
    "# for i in range(len(ratings)):\n",
    "#     if i < len(ratings) -1:\n",
    "#         naming = naming + ratings[i] + \",\"\n",
    "#     elif i+1 == len(ratings):\n",
    "#         naming = naming + ratings[i] + \" and \"\n",
    "#     else:\n",
    "#         naming = naming + ratings[i]\n",
    "\n",
    "# print(f\"Highest rated books are: {naming}\")"
   ]
  },
  {
   "cell_type": "code",
   "execution_count": 20,
   "metadata": {},
   "outputs": [
    {
     "name": "stdout",
     "output_type": "stream",
     "text": [
      "Average rating of Fiction: 4.2\n"
     ]
    }
   ],
   "source": [
    "\n",
    "## Task 1.4\n",
    "\n",
    "# Get fav genre from user\n",
    "\n",
    "### Expected Output\n",
    "\n",
    "# Genre? Fiction\n",
    "\n",
    "# Average rating of Fiction: 4.2\n",
    "\n",
    "genre = input(\"What is Genre?\")\n",
    "titles = []\n",
    "for book in books:\n",
    "    if book['genre'].lower() == genre.lower():\n",
    "        titles.append(book['rating'])\n",
    "\n",
    "if len(titles) != 0:\n",
    "    print(f\"Average rating of Fiction: {sum(titles)/len(titles)}\") \n",
    "else:\n",
    "    print(f\"Sorry. your genre is none \")\n",
    "# Hint\n",
    "# Slice & Join\n",
    "\n",
    "# [a, b, c, d]  -> a, b, c and d"
   ]
  }
 ],
 "metadata": {
  "kernelspec": {
   "display_name": "Python 3",
   "language": "python",
   "name": "python3"
  },
  "language_info": {
   "codemirror_mode": {
    "name": "ipython",
    "version": 3
   },
   "file_extension": ".py",
   "mimetype": "text/x-python",
   "name": "python",
   "nbconvert_exporter": "python",
   "pygments_lexer": "ipython3",
   "version": "3.13.0"
  }
 },
 "nbformat": 4,
 "nbformat_minor": 2
}
