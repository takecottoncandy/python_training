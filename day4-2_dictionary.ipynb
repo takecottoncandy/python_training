{
 "cells": [
  {
   "cell_type": "code",
   "execution_count": null,
   "metadata": {},
   "outputs": [],
   "source": [
    "## dictionary\n",
    "store mixed  multiple values"
   ]
  },
  {
   "cell_type": "code",
   "execution_count": 13,
   "metadata": {},
   "outputs": [],
   "source": [
    "luffy = {\n",
    "   \"name\" : \"Monkey D, Luffy\",\n",
    "   \"age\" : 19,\n",
    "   \"crew_name\" : \"Straw Hat pirates\",\n",
    "   \"crew\" : {\"Zoro\",\"Nami\",\"Cyopper\"},\n",
    "   \"position\" : \"Captain\"\n",
    "   }\n"
   ]
  },
  {
   "cell_type": "code",
   "execution_count": 25,
   "metadata": {},
   "outputs": [
    {
     "data": {
      "text/plain": [
       "{'name': 'Monkey D, Luffy',\n",
       " 'age': 27,\n",
       " 'crew_name': 'Straw Hat pirates',\n",
       " 'crew': {'Cyopper', 'Nami', 'Zoro'},\n",
       " 'position': 'Captain'}"
      ]
     },
     "execution_count": 25,
     "metadata": {},
     "output_type": "execute_result"
    }
   ],
   "source": [
    "luffy[\"age\"] = luffy[\"age\"] + 1\n",
    "\n",
    "luffy"
   ]
  },
  {
   "cell_type": "markdown",
   "metadata": {},
   "source": [
    "## Task 1.1\n",
    "Please provide the list of book titles\n",
    "\n",
    "```python\n",
    "books = [\n",
    "    {\"title\": \"Infinite Jest\", \"rating\": 4.5, \"genre\": \"Fiction\"},\n",
    "    {\"title\": \"The Catcher in the Rye\", \"rating\": 3.9, \"genre\": \"Fiction\"},\n",
    "    {\"title\": \"Sapiens\", \"rating\": 4.9, \"genre\": \"History\"},\n",
    "    {\"title\": \"A Brief History of Time\", \"rating\": 4.8, \"genre\": \"Science\"},\n",
    "    {\"title\": \"Clean Code\", \"rating\": 4.7, \"genre\": \"Technology\"},\n",
    "]\n",
    "\n",
    "```\n",
    "\n",
    "### Expected Output\n",
    "```\n",
    "[\"Infinite Jest\",  \"The Catcher in the Rye\", \"Sapiens\",  \"A Brief History of Time\",  \"Clean Code\"]\n",
    "\n",
    "## Task 1.2\n",
    "Please provide the only Fiction books\n",
    "\n",
    "\n",
    "### Expected Output\n",
    "```\n",
    "[\"Infinite Jest\",  \"The Catcher in the Rye\"]\n",
    "```\n",
    "## Task 1.3\n",
    "Please provide Highest rated books (>= 4.7)\n",
    "\n",
    "\n",
    "### Expected Output\n",
    "```\n",
    "Highest rated books are: Sapiens, A Brief History of Time and Clean Code \n",
    "```"
   ]
  },
  {
   "cell_type": "code",
   "execution_count": 30,
   "metadata": {},
   "outputs": [],
   "source": [
    "books = [\n",
    "    {\"title\": \"Infinite Jest\", \"rating\": 4.5, \"genre\": \"Fiction\"},\n",
    "    {\"title\": \"The Catcher in the Rye\", \"rating\": 3.9, \"genre\": \"Fiction\"},\n",
    "    {\"title\": \"Sapiens\", \"rating\": 4.9, \"genre\": \"History\"},\n",
    "    {\"title\": \"A Brief History of Time\", \"rating\": 4.8, \"genre\": \"Science\"},\n",
    "    {\"title\": \"Clean Code\", \"rating\": 4.7, \"genre\": \"Technology\"},\n",
    "]\n"
   ]
  },
  {
   "cell_type": "code",
   "execution_count": 42,
   "metadata": {},
   "outputs": [
    {
     "name": "stdout",
     "output_type": "stream",
     "text": [
      "['Infinite Jest', 'The Catcher in the Rye', 'Sapiens', 'A Brief History of Time', 'Clean Code']\n"
     ]
    }
   ],
   "source": [
    "names = []\n",
    "name = []\n",
    "for book in books:\n",
    "    name.append(book[\"title\"])\n",
    "\n",
    "print(name)\n",
    "    "
   ]
  }
 ],
 "metadata": {
  "kernelspec": {
   "display_name": "Python 3",
   "language": "python",
   "name": "python3"
  },
  "language_info": {
   "codemirror_mode": {
    "name": "ipython",
    "version": 3
   },
   "file_extension": ".py",
   "mimetype": "text/x-python",
   "name": "python",
   "nbconvert_exporter": "python",
   "pygments_lexer": "ipython3",
   "version": "3.13.0"
  }
 },
 "nbformat": 4,
 "nbformat_minor": 2
}
