{
 "cells": [
  {
   "cell_type": "markdown",
   "metadata": {},
   "source": [
    "# Functions\n",
    " - reuse logic\n",
    " - update the logic in one place\n",
    " "
   ]
  },
  {
   "cell_type": "code",
   "execution_count": null,
   "metadata": {},
   "outputs": [
    {
     "name": "stdout",
     "output_type": "stream",
     "text": [
      "7\n"
     ]
    }
   ],
   "source": [
    "rose = 3\n",
    "t2 = 4\n",
    "\n",
    "t_sum = rose+t2  # logic\n",
    "\n",
    "print(t_sum)"
   ]
  },
  {
   "cell_type": "markdown",
   "metadata": {},
   "source": [
    "## define function"
   ]
  },
  {
   "cell_type": "code",
   "execution_count": 9,
   "metadata": {},
   "outputs": [],
   "source": [
    "#logic\n",
    "def add(n1,n2):\n",
    "    n_sum = n1 + n2\n",
    "    return round(n_sum,2) #buck to the call"
   ]
  },
  {
   "cell_type": "code",
   "execution_count": 10,
   "metadata": {},
   "outputs": [
    {
     "name": "stdout",
     "output_type": "stream",
     "text": [
      "66\n",
      "103.67\n"
     ]
    }
   ],
   "source": [
    "# d= add(3,5)\n",
    "print(add(23,43))\n",
    "print(add(60.333,43.333))"
   ]
  },
  {
   "cell_type": "markdown",
   "metadata": {},
   "source": [
    "# terms of function \n",
    " - function name \n",
    " - function body \n",
    " - parameter\n",
    " - argument\n",
    " - declaration\n",
    " - call\n",
    "\n",
    "How many minimum no. of parameters?\n",
    ">>0\n",
    "What data types should be the arguments?\n",
    ">>anything"
   ]
  },
  {
   "cell_type": "code",
   "execution_count": 18,
   "metadata": {},
   "outputs": [],
   "source": [
    "def fire(rows,mark):\n",
    "    i = 1\n",
    "\n",
    "    while i <= rows:\n",
    "        print(mark*i)\n",
    "        i=i+1\n",
    "\n"
   ]
  },
  {
   "cell_type": "code",
   "execution_count": 21,
   "metadata": {},
   "outputs": [
    {
     "name": "stdout",
     "output_type": "stream",
     "text": [
      "🍓\n",
      "🍓🍓\n",
      "🍍\n",
      "🍍🍍\n",
      "🍍🍍🍍\n",
      "🍍🍍🍍🍍\n",
      "🍍🍍🍍🍍🍍\n",
      "🍍🍍🍍🍍🍍🍍\n",
      "🥕\n",
      "🥕🥕\n",
      "🥕🥕🥕\n",
      "🥕🥕🥕🥕\n",
      "🥕🥕🥕🥕🥕\n",
      "🥕🥕🥕🥕🥕🥕\n",
      "🥕🥕🥕🥕🥕🥕🥕\n",
      "🥕🥕🥕🥕🥕🥕🥕🥕\n",
      "🥕🥕🥕🥕🥕🥕🥕🥕🥕\n",
      "🥕🥕🥕🥕🥕🥕🥕🥕🥕🥕\n",
      "🥕🥕🥕🥕🥕🥕🥕🥕🥕🥕🥕\n",
      "🥕🥕🥕🥕🥕🥕🥕🥕🥕🥕🥕🥕\n",
      "🥕🥕🥕🥕🥕🥕🥕🥕🥕🥕🥕🥕🥕\n",
      "🥕🥕🥕🥕🥕🥕🥕🥕🥕🥕🥕🥕🥕🥕\n",
      "🥕🥕🥕🥕🥕🥕🥕🥕🥕🥕🥕🥕🥕🥕🥕\n",
      "🥕🥕🥕🥕🥕🥕🥕🥕🥕🥕🥕🥕🥕🥕🥕🥕\n"
     ]
    }
   ],
   "source": [
    "fire(2, \"🍓\")\n",
    "fire(6, \"🍍\")\n",
    "fire(16, \"🥕\")"
   ]
  },
  {
   "cell_type": "code",
   "execution_count": 49,
   "metadata": {},
   "outputs": [],
   "source": [
    "shop = [\n",
    "    {\"name\": \"Apple\", \"quantity\": 30, \"price\": 0.50}, # 15\n",
    "    {\"name\": \"Banana\", \"quantity\": 20, \"price\": 0.20}, # 4\n",
    "]\n",
    "# Tasks\n",
    "#  1. `get_total_items(shop)` -> 50\n",
    "#  2. `get_shop_value(shop)` -> 19\n",
    "\n"
   ]
  },
  {
   "cell_type": "code",
   "execution_count": null,
   "metadata": {},
   "outputs": [],
   "source": [
    "# Tasks\n",
    "#  1. `get_total_items(shop)` -> 50\n",
    " \n",
    "\n",
    "def get_total_items(shop):\n",
    "    total_items = []\n",
    "    for i in shop:\n",
    "        total_items.append(i[\"quantity\"])\n",
    "    return sum(total_items)\n",
    "# print(total_items)\n",
    "\n"
   ]
  },
  {
   "cell_type": "code",
   "execution_count": 40,
   "metadata": {},
   "outputs": [
    {
     "data": {
      "text/plain": [
       "50"
      ]
     },
     "execution_count": 40,
     "metadata": {},
     "output_type": "execute_result"
    }
   ],
   "source": [
    "get_total_items(shop)"
   ]
  },
  {
   "cell_type": "code",
   "execution_count": 52,
   "metadata": {},
   "outputs": [
    {
     "data": {
      "text/plain": [
       "19.0"
      ]
     },
     "execution_count": 52,
     "metadata": {},
     "output_type": "execute_result"
    }
   ],
   "source": [
    "# Tasks\n",
    "#  2. `get_shop_value(shop)` -> 19 \n",
    "\n",
    "def get_shop_value(shop):\n",
    "    get_shop_value = []\n",
    "    for i in shop:\n",
    "        get_shop_value.append(i[\"quantity\"]*i[\"price\"])\n",
    "    return sum(get_shop_value)\n",
    "# print(total_items)\n",
    "\n",
    "get_shop_value(shop)"
   ]
  },
  {
   "cell_type": "markdown",
   "metadata": {},
   "source": [
    "# Tasks\n",
    "#  1. `get_total_items(shop)` -> 50\n",
    "#  2. `get_shop_value(shop)` -> 19"
   ]
  },
  {
   "cell_type": "markdown",
   "metadata": {},
   "source": [
    "## Task 1\n",
    "\n",
    "`add_new_product(shop)`\n",
    "\n",
    "\n",
    "Expected Output\n",
    "```\n",
    "What is the product name? Orange\n",
    "What is the quantity? 50\n",
    "What is the price? 0.30\n",
    "Added Orange to shop.\n",
    "```\n",
    "\n",
    "`print(shop)`\n",
    "## Task 2\n",
    "\n",
    "Do you add more Y/N? Y\n",
    "## Task 3\n",
    "\n",
    "Main Menu\n",
    "1. Add Product\n",
    "2. Print all product in shop\n",
    "3. Exit"
   ]
  },
  {
   "cell_type": "markdown",
   "metadata": {},
   "source": [
    "## Task 1\n",
    "\n",
    "`add_new_product(shop)`\n",
    "\n",
    "\n",
    "Expected Output\n",
    "```\n",
    "What is the product name? Orange\n",
    "What is the quantity? 50\n",
    "What is the price? 0.30\n",
    "Added Orange to shop.\n",
    "```"
   ]
  },
  {
   "cell_type": "code",
   "execution_count": 59,
   "metadata": {},
   "outputs": [
    {
     "name": "stdout",
     "output_type": "stream",
     "text": [
      "Added orange\\ to shop.\n",
      "[{'name': 'orange\\\\', 'quantity': '50', 'price': '40'}, [{'name': 'Apple', 'quantity': 30, 'price': 0.5}, {'name': 'Banana', 'quantity': 20, 'price': 0.2}]]\n"
     ]
    }
   ],
   "source": [
    "shop = [\n",
    "    {\"name\": \"Apple\", \"quantity\": 30, \"price\": 0.50}, # 15\n",
    "    {\"name\": \"Banana\", \"quantity\": 20, \"price\": 0.20}, # 4\n",
    "]\n",
    "\n",
    "def add_new_product(shop):\n",
    "    fluit1 = input(\"What is the product name?\")\n",
    "    quantity1 = input(\"What is the quantity?\")\n",
    "    price1 = input(\"What is the price?\")\n",
    "    shop1 = [{\"name\": fluit1, \"quantity\": quantity1, \"price\": price1}]\n",
    "    shop1.append(shop)\n",
    "    print(f\"Added {fluit1} to shop.\")\n",
    "    print(shop1)\n",
    "\n",
    "\n",
    "add_new_product(shop)\n"
   ]
  },
  {
   "cell_type": "markdown",
   "metadata": {},
   "source": [
    "## Task 2\n",
    "\n",
    "Do you add more Y/N? Y"
   ]
  },
  {
   "cell_type": "code",
   "execution_count": null,
   "metadata": {},
   "outputs": [
    {
     "name": "stdout",
     "output_type": "stream",
     "text": [
      "Added ora to shop.\n"
     ]
    }
   ],
   "source": [
    "shop = [\n",
    "    {\"name\": \"Apple\", \"quantity\": 30, \"price\": 0.50}, # 15\n",
    "    {\"name\": \"Banana\", \"quantity\": 20, \"price\": 0.20}, # 4\n",
    "]\n",
    "\n",
    "def loop_add_new_product(shop):\n",
    "    while True:\n",
    "        flg_yn = input(\"Do you add more Y/N?\")\n",
    "        if (flg_yn == 'N'):\n",
    "            break\n",
    "        fluit1 = input(\"What is the product name?\")\n",
    "        quantity1 = input(\"What is the quantity?\")\n",
    "        price1 = input(\"What is the price?\")\n",
    "        shop1 = {\"name\": fluit1, \"quantity\": quantity1, \"price\": price1}\n",
    "        shop.append(shop1)\n",
    "        print(f\"Added {fluit1} to shop.\")\n",
    "        print()\n",
    "        \n",
    "\n",
    "loop_add_new_product(shop)\n"
   ]
  }
 ],
 "metadata": {
  "kernelspec": {
   "display_name": "Python 3",
   "language": "python",
   "name": "python3"
  },
  "language_info": {
   "codemirror_mode": {
    "name": "ipython",
    "version": 3
   },
   "file_extension": ".py",
   "mimetype": "text/x-python",
   "name": "python",
   "nbconvert_exporter": "python",
   "pygments_lexer": "ipython3",
   "version": "3.13.0"
  }
 },
 "nbformat": 4,
 "nbformat_minor": 2
}
