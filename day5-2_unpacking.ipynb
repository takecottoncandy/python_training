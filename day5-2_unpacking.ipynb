{
 "cells": [
  {
   "cell_type": "markdown",
   "metadata": {},
   "source": [
    "## multiple variable assingment\n",
    "\n"
   ]
  },
  {
   "cell_type": "code",
   "execution_count": 1,
   "metadata": {},
   "outputs": [
    {
     "name": "stdout",
     "output_type": "stream",
     "text": [
      "10 10 10\n"
     ]
    }
   ],
   "source": [
    "# same values\n",
    "a=b=c=10  #multiple variable assingment\n",
    "\n",
    "print(a,b,c)"
   ]
  },
  {
   "cell_type": "code",
   "execution_count": 2,
   "metadata": {},
   "outputs": [
    {
     "name": "stdout",
     "output_type": "stream",
     "text": [
      "10 30 50\n"
     ]
    }
   ],
   "source": [
    "#unpacking\n",
    "a,b,c = 10,30,50 #diffirent values\n",
    "\n",
    "print(a,b,c)\n"
   ]
  },
  {
   "cell_type": "markdown",
   "metadata": {},
   "source": [
    "## Tuple\n",
    "same as list but cannot modify(cannot mutate)\n",
    "\n",
    "###not present in tuple\n",
    " - append\n",
    " - insert\n",
    " - pop\n",
    " - remove"
   ]
  },
  {
   "cell_type": "code",
   "execution_count": 3,
   "metadata": {},
   "outputs": [
    {
     "data": {
      "text/plain": [
       "[100, 70, 90, 40]"
      ]
     },
     "execution_count": 3,
     "metadata": {},
     "output_type": "execute_result"
    }
   ],
   "source": [
    "marks1 = [80,70,90,40] #list\n",
    "marks1[0]=100\n",
    "marks1"
   ]
  },
  {
   "cell_type": "code",
   "execution_count": 4,
   "metadata": {},
   "outputs": [
    {
     "name": "stdout",
     "output_type": "stream",
     "text": [
      "(80, 70)\n",
      "2\n"
     ]
    }
   ],
   "source": [
    "marks2 = (80,70,90,40,80) #tuple\n",
    "marks2[0]\n",
    "print(marks2[0:2])\n",
    "print(marks2.count(80))"
   ]
  },
  {
   "cell_type": "code",
   "execution_count": 5,
   "metadata": {},
   "outputs": [
    {
     "name": "stdout",
     "output_type": "stream",
     "text": [
      "10 50 80\n"
     ]
    }
   ],
   "source": [
    "#unpacking\n",
    "a,b,c = (10,50,80)\n",
    "print(a,b,c)\n"
   ]
  },
  {
   "cell_type": "code",
   "execution_count": 6,
   "metadata": {},
   "outputs": [],
   "source": [
    "#skip\n",
    "# t1,t2,t3,t4 = (60,70,80,90)\n",
    "t1,t2,_,t3 = (60,70,80,90)\n"
   ]
  },
  {
   "cell_type": "code",
   "execution_count": 7,
   "metadata": {},
   "outputs": [
    {
     "name": "stdout",
     "output_type": "stream",
     "text": [
      "🦸‍♂️ Batman 🦸‍♂️ Superman\n"
     ]
    }
   ],
   "source": [
    "t1,t2,t3,t4 = [\"🦸‍♂️ Batman\", \"🦸‍♂️ Superman\", \"🦹‍♂️ Joker\", \"🦹‍♀️ Harley Quinn\"]\n",
    "# Unpack only Batman & Superman\n",
    "# [\"🦸‍♂️ Batman\", \"🦸‍♂️ Superman\", \"🦹‍♂️ Joker\", \"🦹‍♀️ Harley Quinn\"]\n",
    "\n",
    "print(t1,t2)\n",
    "\n"
   ]
  },
  {
   "cell_type": "markdown",
   "metadata": {},
   "source": [
    "#task1.1\n",
    "# without uppacking\n",
    "points = [(3,4),(6,12),(10,13)]\n",
    "\n",
    "\n",
    "# expect output\n",
    "distances = [5,13,12.45]\n"
   ]
  },
  {
   "cell_type": "code",
   "execution_count": null,
   "metadata": {},
   "outputs": [
    {
     "name": "stdout",
     "output_type": "stream",
     "text": [
      "[5.0, 13.42, 16.4]\n"
     ]
    }
   ],
   "source": [
    "#task1.1\n",
    "# without uppacking\n",
    "# expect output\n",
    "# distances = [5,13,12.45]\n",
    "\n",
    "distances = []\n",
    "points = [(3,4),(6,12),(10,13)]\n",
    "for point in points :\n",
    "    distances.append(round((point[0]**2+point[1]**2)**0.5,2))\n",
    "\n",
    "\n",
    "print(distances)\n",
    "\n",
    "# sqrt_prints = math.sqrt(points[0])\n",
    "# print(sqrt_prints0[0])"
   ]
  },
  {
   "cell_type": "code",
   "execution_count": null,
   "metadata": {},
   "outputs": [
    {
     "name": "stdout",
     "output_type": "stream",
     "text": [
      "[5.0, 13.42, 16.4]\n"
     ]
    }
   ],
   "source": [
    "#task1.1.2\n",
    "# uppacking\n",
    "# expect output\n",
    "# distances = [5,13,12.45]\n",
    "\n",
    "distances = []\n",
    "points = [(3,4),(6,12),(10,13)]\n",
    "for point in points :\n",
    "    x,y = point\n",
    "    z=(x**2+y**2)**0.5\n",
    "    distances.append(round(z,2))\n",
    "\n",
    "\n",
    "print(distances)\n",
    "\n",
    "# sqrt_prints = math.sqrt(points[0])\n",
    "# print(sqrt_prints0[0])"
   ]
  },
  {
   "cell_type": "code",
   "execution_count": null,
   "metadata": {},
   "outputs": [],
   "source": [
    "#task1.1\n",
    "# uppacking\n",
    "# expect output\n",
    "# distances = [5,13,12.45]\n",
    "\n",
    "distances = []\n",
    "points = [(3,4),(6,12),(10,13)]\n",
    "\n",
    "for point in points :\n",
    "    x,y = point\n",
    "    z=(x**2+y**2)**0.5\n",
    "    distances.append(round(z,2))\n",
    "\n",
    "\n",
    "print(distances)\n",
    "\n",
    "# sqrt_prints = math.sqrt(points[0])\n",
    "# print(sqrt_prints0[0])"
   ]
  },
  {
   "cell_type": "code",
   "execution_count": 24,
   "metadata": {},
   "outputs": [
    {
     "name": "stdout",
     "output_type": "stream",
     "text": [
      "[5.0, 13.42, 16.4]\n"
     ]
    }
   ],
   "source": [
    "\n",
    "points = [(3,4),(6,12),(10,13)]\n",
    "distances = [round((point[0]**2+point[1]**2)**0.5,2) for point in points]\n",
    "\n",
    "print(distances)\n"
   ]
  }
 ],
 "metadata": {
  "kernelspec": {
   "display_name": "Python 3",
   "language": "python",
   "name": "python3"
  },
  "language_info": {
   "codemirror_mode": {
    "name": "ipython",
    "version": 3
   },
   "file_extension": ".py",
   "mimetype": "text/x-python",
   "name": "python",
   "nbconvert_exporter": "python",
   "pygments_lexer": "ipython3",
   "version": "3.13.0"
  }
 },
 "nbformat": 4,
 "nbformat_minor": 2
}
