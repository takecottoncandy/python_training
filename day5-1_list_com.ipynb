{
 "cells": [
  {
   "cell_type": "markdown",
   "metadata": {},
   "source": [
    "\n",
    "marks = [ 90, 80, 60]\n",
    "\n",
    "# List Comprehension (Special)\n",
    "# Double all mark for each mark in marks (English)\n",
    "dbl_marks = [mark * 2 for mark in marks]\n",
    "dbl_marks\n",
    "# Filter with Comprehension\n",
    "\n",
    "marks = [ 90, 80, 60]\n",
    "\n",
    "# (Give the mark) (for each mark in marks) (where mark > 70)\n",
    "# (where mark > 70) -> filter\n",
    "highest_marks = [mark for mark in marks if mark > 70]\n",
    "\n",
    "highest_marks\n",
    "marks = [ 90, 80, 60]\n",
    "\n",
    "[mark * 2 for mark in marks if mark > 70]\n"
   ]
  },
  {
   "cell_type": "code",
   "execution_count": 30,
   "metadata": {},
   "outputs": [],
   "source": [
    "books = [\n",
    "    {\"title\": \"Infinite Jest\", \"rating\": 4.5, \"genre\": \"Fiction\"},\n",
    "    {\"title\": \"The Catcher in the Rye\", \"rating\": 3.9, \"genre\": \"Fiction\"},\n",
    "    {\"title\": \"Sapiens\", \"rating\": 4.9, \"genre\": \"History\"},\n",
    "    {\"title\": \"A Brief History of Time\", \"rating\": 4.8, \"genre\": \"Science\"},\n",
    "    {\"title\": \"Clean Code\", \"rating\": 4.7, \"genre\": \"Technology\"},\n",
    "]"
   ]
  },
  {
   "cell_type": "code",
   "execution_count": 31,
   "metadata": {},
   "outputs": [
    {
     "name": "stdout",
     "output_type": "stream",
     "text": [
      "['Infinite Jest', 'The Catcher in the Rye', 'Sapiens', 'A Brief History of Time', 'Clean Code']\n"
     ]
    }
   ],
   "source": [
    "# task1.1.1\n",
    "\n",
    "names = [book[\"title\"]  for book in books]\n",
    "\n",
    "# for names.append(book[\"title\"]) for book in books[\"title\"]\n",
    "print(names)"
   ]
  },
  {
   "cell_type": "code",
   "execution_count": 32,
   "metadata": {},
   "outputs": [
    {
     "name": "stdout",
     "output_type": "stream",
     "text": [
      "['Infinite Jest', 'The Catcher in the Rye']\n"
     ]
    }
   ],
   "source": [
    "# task1.1.2\n",
    "# Expected Output\n",
    "# [\"Infinite Jest\",  \"The Catcher in the Rye\"]\n",
    "fictions = [book[\"title\"]  for book in books if book[\"genre\"] == \"Fiction\"]\n",
    "\n",
    "print(fictions)"
   ]
  },
  {
   "cell_type": "code",
   "execution_count": 33,
   "metadata": {},
   "outputs": [
    {
     "name": "stdout",
     "output_type": "stream",
     "text": [
      "Highest rated books are: Sapiens , A Brief History of Time and Clean Code\n"
     ]
    }
   ],
   "source": [
    "## Task 1.1.3\n",
    "# Please provide Highest rated books (>= 4.7)\n",
    "\n",
    "## Expected Output\n",
    "# Highest rated books are: Sapiens, A Brief History of Time and Clean Code \n",
    "\n",
    "ratings = [book[\"title\"]  for book in books if book[\"rating\"] >= 4.7]\n",
    "change_ratings = \" , \".join(ratings[0:-1])\n",
    "\n",
    "print(f\"Highest rated books are: {change_ratings} and {ratings[-1]}\")"
   ]
  },
  {
   "cell_type": "code",
   "execution_count": 34,
   "metadata": {},
   "outputs": [
    {
     "name": "stdout",
     "output_type": "stream",
     "text": [
      "[4.5, 3.9]\n",
      "Average rating of Fiction: 4.2\n"
     ]
    }
   ],
   "source": [
    "\n",
    "## Task 1.1.4\n",
    "\n",
    "# Get fav genre from user\n",
    "\n",
    "### Expected Output\n",
    "\n",
    "# Genre? Fiction\n",
    "\n",
    "# Average rating of Fiction: 4.2\n",
    "\n",
    "genre = input(\"What is Genre?\")\n",
    "ratings = [ book['rating'] for book in books if book['genre'].lower() == genre.lower()]\n",
    "\n",
    "print(ratings)\n",
    "\n",
    "\n",
    "if len(ratings) != 0:\n",
    "    print(f\"Average rating of Fiction: {sum(ratings)/len(ratings)}\") \n",
    "else:\n",
    "    print(f\"Sorry. your genre is none \")\n"
   ]
  },
  {
   "cell_type": "markdown",
   "metadata": {},
   "source": []
  }
 ],
 "metadata": {
  "kernelspec": {
   "display_name": "Python 3",
   "language": "python",
   "name": "python3"
  },
  "language_info": {
   "codemirror_mode": {
    "name": "ipython",
    "version": 3
   },
   "file_extension": ".py",
   "mimetype": "text/x-python",
   "name": "python",
   "nbconvert_exporter": "python",
   "pygments_lexer": "ipython3",
   "version": "3.13.0"
  }
 },
 "nbformat": 4,
 "nbformat_minor": 2
}
